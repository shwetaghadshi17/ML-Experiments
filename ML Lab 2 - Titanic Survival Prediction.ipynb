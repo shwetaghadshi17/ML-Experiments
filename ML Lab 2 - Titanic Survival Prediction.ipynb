{
 "cells": [
  {
   "cell_type": "markdown",
   "metadata": {},
   "source": [
    "### Name: Shweta Ghadshi\n",
    "### BE CMPN B\n",
    "### Roll No: 21102B0017"
   ]
  },
  {
   "cell_type": "code",
   "execution_count": 1,
   "metadata": {
    "_cell_guid": "b1076dfc-b9ad-4769-8c92-a6c4dae69d19",
    "_uuid": "8f2839f25d086af736a60e9eeb907d3b93b6e0e5",
    "execution": {
     "iopub.execute_input": "2023-10-19T12:29:57.501973Z",
     "iopub.status.busy": "2023-10-19T12:29:57.50154Z",
     "iopub.status.idle": "2023-10-19T12:29:57.868142Z",
     "shell.execute_reply": "2023-10-19T12:29:57.867104Z",
     "shell.execute_reply.started": "2023-10-19T12:29:57.501926Z"
    }
   },
   "outputs": [],
   "source": [
    "import numpy as np\n",
    "import pandas as pd"
   ]
  },
  {
   "cell_type": "code",
   "execution_count": 2,
   "metadata": {
    "execution": {
     "iopub.execute_input": "2023-10-19T13:16:18.524703Z",
     "iopub.status.busy": "2023-10-19T13:16:18.524367Z",
     "iopub.status.idle": "2023-10-19T13:16:18.850871Z",
     "shell.execute_reply": "2023-10-19T13:16:18.84979Z",
     "shell.execute_reply.started": "2023-10-19T13:16:18.524677Z"
    }
   },
   "outputs": [],
   "source": [
    "import pandas as pd\n",
    "import matplotlib.pyplot as plt\n",
    "import seaborn as sns\n",
    "from sklearn.model_selection import train_test_split\n",
    "from sklearn.impute import SimpleImputer\n",
    "from sklearn.preprocessing import OneHotEncoder, StandardScaler\n",
    "from sklearn.compose import ColumnTransformer\n",
    "from sklearn.pipeline import Pipeline\n",
    "from sklearn.ensemble import RandomForestClassifier, GradientBoostingClassifier\n",
    "from sklearn.svm import SVC\n",
    "from sklearn.linear_model import LogisticRegression\n",
    "from sklearn.neighbors import KNeighborsClassifier\n",
    "from sklearn.metrics import accuracy_score, classification_report"
   ]
  },
  {
   "cell_type": "code",
   "execution_count": 3,
   "metadata": {
    "execution": {
     "iopub.execute_input": "2023-10-19T13:10:19.671751Z",
     "iopub.status.busy": "2023-10-19T13:10:19.67111Z",
     "iopub.status.idle": "2023-10-19T13:10:19.707928Z",
     "shell.execute_reply": "2023-10-19T13:10:19.707237Z",
     "shell.execute_reply.started": "2023-10-19T13:10:19.671719Z"
    }
   },
   "outputs": [
    {
     "data": {
      "text/html": [
       "<div>\n",
       "<style scoped>\n",
       "    .dataframe tbody tr th:only-of-type {\n",
       "        vertical-align: middle;\n",
       "    }\n",
       "\n",
       "    .dataframe tbody tr th {\n",
       "        vertical-align: top;\n",
       "    }\n",
       "\n",
       "    .dataframe thead th {\n",
       "        text-align: right;\n",
       "    }\n",
       "</style>\n",
       "<table border=\"1\" class=\"dataframe\">\n",
       "  <thead>\n",
       "    <tr style=\"text-align: right;\">\n",
       "      <th></th>\n",
       "      <th>PassengerId</th>\n",
       "      <th>Survived</th>\n",
       "      <th>Pclass</th>\n",
       "      <th>Name</th>\n",
       "      <th>Sex</th>\n",
       "      <th>Age</th>\n",
       "      <th>SibSp</th>\n",
       "      <th>Parch</th>\n",
       "      <th>Ticket</th>\n",
       "      <th>Fare</th>\n",
       "      <th>Cabin</th>\n",
       "      <th>Embarked</th>\n",
       "    </tr>\n",
       "  </thead>\n",
       "  <tbody>\n",
       "    <tr>\n",
       "      <th>0</th>\n",
       "      <td>892</td>\n",
       "      <td>0</td>\n",
       "      <td>3</td>\n",
       "      <td>Kelly, Mr. James</td>\n",
       "      <td>male</td>\n",
       "      <td>34.5</td>\n",
       "      <td>0</td>\n",
       "      <td>0</td>\n",
       "      <td>330911</td>\n",
       "      <td>7.8292</td>\n",
       "      <td>NaN</td>\n",
       "      <td>Q</td>\n",
       "    </tr>\n",
       "    <tr>\n",
       "      <th>1</th>\n",
       "      <td>893</td>\n",
       "      <td>1</td>\n",
       "      <td>3</td>\n",
       "      <td>Wilkes, Mrs. James (Ellen Needs)</td>\n",
       "      <td>female</td>\n",
       "      <td>47.0</td>\n",
       "      <td>1</td>\n",
       "      <td>0</td>\n",
       "      <td>363272</td>\n",
       "      <td>7.0000</td>\n",
       "      <td>NaN</td>\n",
       "      <td>S</td>\n",
       "    </tr>\n",
       "    <tr>\n",
       "      <th>2</th>\n",
       "      <td>894</td>\n",
       "      <td>0</td>\n",
       "      <td>2</td>\n",
       "      <td>Myles, Mr. Thomas Francis</td>\n",
       "      <td>male</td>\n",
       "      <td>62.0</td>\n",
       "      <td>0</td>\n",
       "      <td>0</td>\n",
       "      <td>240276</td>\n",
       "      <td>9.6875</td>\n",
       "      <td>NaN</td>\n",
       "      <td>Q</td>\n",
       "    </tr>\n",
       "    <tr>\n",
       "      <th>3</th>\n",
       "      <td>895</td>\n",
       "      <td>0</td>\n",
       "      <td>3</td>\n",
       "      <td>Wirz, Mr. Albert</td>\n",
       "      <td>male</td>\n",
       "      <td>27.0</td>\n",
       "      <td>0</td>\n",
       "      <td>0</td>\n",
       "      <td>315154</td>\n",
       "      <td>8.6625</td>\n",
       "      <td>NaN</td>\n",
       "      <td>S</td>\n",
       "    </tr>\n",
       "    <tr>\n",
       "      <th>4</th>\n",
       "      <td>896</td>\n",
       "      <td>1</td>\n",
       "      <td>3</td>\n",
       "      <td>Hirvonen, Mrs. Alexander (Helga E Lindqvist)</td>\n",
       "      <td>female</td>\n",
       "      <td>22.0</td>\n",
       "      <td>1</td>\n",
       "      <td>1</td>\n",
       "      <td>3101298</td>\n",
       "      <td>12.2875</td>\n",
       "      <td>NaN</td>\n",
       "      <td>S</td>\n",
       "    </tr>\n",
       "  </tbody>\n",
       "</table>\n",
       "</div>"
      ],
      "text/plain": [
       "   PassengerId  Survived  Pclass  \\\n",
       "0          892         0       3   \n",
       "1          893         1       3   \n",
       "2          894         0       2   \n",
       "3          895         0       3   \n",
       "4          896         1       3   \n",
       "\n",
       "                                           Name     Sex   Age  SibSp  Parch  \\\n",
       "0                              Kelly, Mr. James    male  34.5      0      0   \n",
       "1              Wilkes, Mrs. James (Ellen Needs)  female  47.0      1      0   \n",
       "2                     Myles, Mr. Thomas Francis    male  62.0      0      0   \n",
       "3                              Wirz, Mr. Albert    male  27.0      0      0   \n",
       "4  Hirvonen, Mrs. Alexander (Helga E Lindqvist)  female  22.0      1      1   \n",
       "\n",
       "    Ticket     Fare Cabin Embarked  \n",
       "0   330911   7.8292   NaN        Q  \n",
       "1   363272   7.0000   NaN        S  \n",
       "2   240276   9.6875   NaN        Q  \n",
       "3   315154   8.6625   NaN        S  \n",
       "4  3101298  12.2875   NaN        S  "
      ]
     },
     "execution_count": 3,
     "metadata": {},
     "output_type": "execute_result"
    }
   ],
   "source": [
    "data=pd.read_csv(\"tested.csv\")\n",
    "data.head()"
   ]
  },
  {
   "cell_type": "code",
   "execution_count": 4,
   "metadata": {
    "execution": {
     "iopub.execute_input": "2023-10-19T13:11:15.601725Z",
     "iopub.status.busy": "2023-10-19T13:11:15.601377Z",
     "iopub.status.idle": "2023-10-19T13:11:15.608351Z",
     "shell.execute_reply": "2023-10-19T13:11:15.607393Z",
     "shell.execute_reply.started": "2023-10-19T13:11:15.6017Z"
    }
   },
   "outputs": [
    {
     "data": {
      "text/plain": [
       "(418, 12)"
      ]
     },
     "execution_count": 4,
     "metadata": {},
     "output_type": "execute_result"
    }
   ],
   "source": [
    "data.shape"
   ]
  },
  {
   "cell_type": "code",
   "execution_count": 5,
   "metadata": {
    "execution": {
     "iopub.execute_input": "2023-10-19T13:11:30.230864Z",
     "iopub.status.busy": "2023-10-19T13:11:30.230506Z",
     "iopub.status.idle": "2023-10-19T13:11:30.239253Z",
     "shell.execute_reply": "2023-10-19T13:11:30.238329Z",
     "shell.execute_reply.started": "2023-10-19T13:11:30.230835Z"
    }
   },
   "outputs": [
    {
     "data": {
      "text/plain": [
       "PassengerId      0\n",
       "Survived         0\n",
       "Pclass           0\n",
       "Name             0\n",
       "Sex              0\n",
       "Age             86\n",
       "SibSp            0\n",
       "Parch            0\n",
       "Ticket           0\n",
       "Fare             1\n",
       "Cabin          327\n",
       "Embarked         0\n",
       "dtype: int64"
      ]
     },
     "execution_count": 5,
     "metadata": {},
     "output_type": "execute_result"
    }
   ],
   "source": [
    "data.isnull().sum()"
   ]
  },
  {
   "cell_type": "code",
   "execution_count": 6,
   "metadata": {
    "execution": {
     "iopub.execute_input": "2023-10-19T13:12:13.986562Z",
     "iopub.status.busy": "2023-10-19T13:12:13.986198Z",
     "iopub.status.idle": "2023-10-19T13:12:14.007554Z",
     "shell.execute_reply": "2023-10-19T13:12:14.006876Z",
     "shell.execute_reply.started": "2023-10-19T13:12:13.986535Z"
    }
   },
   "outputs": [
    {
     "data": {
      "text/plain": [
       "0"
      ]
     },
     "execution_count": 6,
     "metadata": {},
     "output_type": "execute_result"
    }
   ],
   "source": [
    "data['Age'].fillna(data['Age'].median(), inplace=True)\n",
    "data.duplicated().sum()"
   ]
  },
  {
   "cell_type": "code",
   "execution_count": 48,
   "metadata": {
    "execution": {
     "iopub.execute_input": "2023-10-19T13:16:28.60451Z",
     "iopub.status.busy": "2023-10-19T13:16:28.604184Z",
     "iopub.status.idle": "2023-10-19T13:16:28.8584Z",
     "shell.execute_reply": "2023-10-19T13:16:28.857365Z",
     "shell.execute_reply.started": "2023-10-19T13:16:28.604485Z"
    }
   },
   "outputs": [
    {
     "data": {
      "image/png": "[encoded data removed]",
      "text/plain": [
       "<Figure size 500x300 with 1 Axes>"
      ]
     },
     "metadata": {},
     "output_type": "display_data"
    }
   ],
   "source": [
    "# Plotting the count of passengers who survived and didn't survive\n",
    "plt.figure(figsize=(5, 3))\n",
    "sns.countplot(data=data, x='Survived', palette=\"Set2\")\n",
    "plt.title(\"Count of Passengers who Survived (1) and Didn't Survive (0)\")\n",
    "plt.xlabel(\"Survival\")\n",
    "plt.ylabel(\"Count\")\n",
    "plt.show()"
   ]
  },
  {
   "cell_type": "code",
   "execution_count": 49,
   "metadata": {
    "execution": {
     "iopub.execute_input": "2023-10-19T13:17:12.1892Z",
     "iopub.status.busy": "2023-10-19T13:17:12.188832Z",
     "iopub.status.idle": "2023-10-19T13:17:12.40705Z",
     "shell.execute_reply": "2023-10-19T13:17:12.405909Z",
     "shell.execute_reply.started": "2023-10-19T13:17:12.189173Z"
    }
   },
   "outputs": [
    {
     "data": {
      "image/png": "[encoded data removed]",
      "text/plain": [
       "<Figure size 500x300 with 1 Axes>"
      ]
     },
     "metadata": {},
     "output_type": "display_data"
    }
   ],
   "source": [
    "# Plotting the count of males and females on the Titanic\n",
    "plt.figure(figsize=(5, 3))\n",
    "sns.countplot(data=data, x='Sex', palette=\"Set1\")\n",
    "plt.title(\"Count of Males and Females on the Titanic\")\n",
    "plt.xlabel(\"Sex\")\n",
    "plt.ylabel(\"Count\")\n",
    "plt.show()"
   ]
  },
  {
   "cell_type": "code",
   "execution_count": 50,
   "metadata": {
    "execution": {
     "iopub.execute_input": "2023-10-19T13:32:31.884497Z",
     "iopub.status.busy": "2023-10-19T13:32:31.88416Z",
     "iopub.status.idle": "2023-10-19T13:32:32.401496Z",
     "shell.execute_reply": "2023-10-19T13:32:32.400435Z",
     "shell.execute_reply.started": "2023-10-19T13:32:31.88447Z"
    }
   },
   "outputs": [
    {
     "data": {
      "image/png": "[encoded data removed]",
      "text/plain": [
       "<Figure size 600x500 with 1 Axes>"
      ]
     },
     "metadata": {},
     "output_type": "display_data"
    }
   ],
   "source": [
    "plt.figure(figsize=(6, 5))\n",
    "sns.histplot(data=data, x='Age', hue='Survived', bins=30, kde=True, palette=\"Set2\")\n",
    "plt.title(\"Age Distribution and Survival\")\n",
    "plt.xlabel(\"Age\")\n",
    "plt.ylabel(\"Count\")\n",
    "plt.legend(title='Survived', labels=['No', 'Yes'])\n",
    "plt.show()\n"
   ]
  },
  {
   "cell_type": "code",
   "execution_count": 51,
   "metadata": {
    "execution": {
     "iopub.execute_input": "2023-10-19T13:33:07.094551Z",
     "iopub.status.busy": "2023-10-19T13:33:07.093881Z",
     "iopub.status.idle": "2023-10-19T13:33:07.735645Z",
     "shell.execute_reply": "2023-10-19T13:33:07.7347Z",
     "shell.execute_reply.started": "2023-10-19T13:33:07.09452Z"
    }
   },
   "outputs": [
    {
     "data": {
      "image/png": "[encoded data removed]",
      "text/plain": [
       "<Figure size 500x300 with 1 Axes>"
      ]
     },
     "metadata": {},
     "output_type": "display_data"
    }
   ],
   "source": [
    "#class distribution and survival\n",
    "plt.figure(figsize=(5, 3))\n",
    "sns.countplot(data=data, x='Pclass', hue='Survived', palette=\"Set1\")\n",
    "plt.title(\"Survival Count Based on Passenger Class\")\n",
    "plt.xlabel(\"Pclass\")\n",
    "plt.ylabel(\"Count\")\n",
    "plt.legend(title='Survived', labels=['No', 'Yes'])\n",
    "plt.show()"
   ]
  },
  {
   "cell_type": "code",
   "execution_count": 52,
   "metadata": {
    "execution": {
     "iopub.execute_input": "2023-10-19T13:33:44.594483Z",
     "iopub.status.busy": "2023-10-19T13:33:44.594114Z",
     "iopub.status.idle": "2023-10-19T13:33:44.866575Z",
     "shell.execute_reply": "2023-10-19T13:33:44.86552Z",
     "shell.execute_reply.started": "2023-10-19T13:33:44.594459Z"
    }
   },
   "outputs": [
    {
     "data": {
      "image/png": "[encoded data removed]",
      "text/plain": [
       "<Figure size 500x300 with 1 Axes>"
      ]
     },
     "metadata": {},
     "output_type": "display_data"
    }
   ],
   "source": [
    "#embarkd port and survival\n",
    "plt.figure(figsize=(5, 3))\n",
    "sns.countplot(data=data, x='Embarked', hue='Survived', palette=\"Set3\")\n",
    "plt.title(\"Survival Count Based on Embarked Port\")\n",
    "plt.xlabel(\"Embarked\")\n",
    "plt.ylabel(\"Count\")\n",
    "plt.legend(title='Survived', labels=['No', 'Yes'])\n",
    "plt.show()"
   ]
  },
  {
   "cell_type": "code",
   "execution_count": 54,
   "metadata": {
    "execution": {
     "iopub.execute_input": "2023-10-19T13:34:46.274766Z",
     "iopub.status.busy": "2023-10-19T13:34:46.274419Z",
     "iopub.status.idle": "2023-10-19T13:34:46.826097Z",
     "shell.execute_reply": "2023-10-19T13:34:46.824797Z",
     "shell.execute_reply.started": "2023-10-19T13:34:46.274741Z"
    }
   },
   "outputs": [
    {
     "data": {
      "image/png": "[encoded data removed]",
      "text/plain": [
       "<Figure size 600x500 with 1 Axes>"
      ]
     },
     "metadata": {},
     "output_type": "display_data"
    }
   ],
   "source": [
    "#fare distibution and survival\n",
    "plt.figure(figsize=(6, 5))\n",
    "sns.histplot(data=data, x='Fare', hue='Survived', bins=30, kde=True, palette=\"Set2\")\n",
    "plt.title(\"Fare Distribution and Survival\")\n",
    "plt.xlabel(\"Fare\")\n",
    "plt.ylabel(\"Count\")\n",
    "plt.legend(title='Survived', labels=['No', 'Yes'])\n",
    "plt.show()"
   ]
  },
  {
   "cell_type": "code",
   "execution_count": 56,
   "metadata": {
    "execution": {
     "iopub.execute_input": "2023-10-19T13:35:42.95575Z",
     "iopub.status.busy": "2023-10-19T13:35:42.955302Z",
     "iopub.status.idle": "2023-10-19T13:35:43.441677Z",
     "shell.execute_reply": "2023-10-19T13:35:43.440516Z",
     "shell.execute_reply.started": "2023-10-19T13:35:42.955721Z"
    }
   },
   "outputs": [
    {
     "data": {
      "image/png": "[encoded data removed]",
      "text/plain": [
       "<Figure size 600x500 with 1 Axes>"
      ]
     },
     "metadata": {},
     "output_type": "display_data"
    },
    {
     "data": {
      "image/png": "[encoded data removed]",
      "text/plain": [
       "<Figure size 600x500 with 1 Axes>"
      ]
     },
     "metadata": {},
     "output_type": "display_data"
    }
   ],
   "source": [
    "#sibling/spouse and children/parents and survival\n",
    "plt.figure(figsize=(6, 5))\n",
    "sns.countplot(data=data, x='SibSp', hue='Survived', palette=\"Set1\")\n",
    "plt.title(\"Survival Count Based on SibSp (Siblings/Spouses)\")\n",
    "plt.xlabel(\"SibSp\")\n",
    "plt.ylabel(\"Count\")\n",
    "plt.legend(title='Survived', labels=['No', 'Yes'])\n",
    "plt.show()\n",
    "\n",
    "plt.figure(figsize=(6, 5))\n",
    "sns.countplot(data=data, x='Parch', hue='Survived', palette=\"Set1\")\n",
    "plt.title(\"Survival Count Based on Parch (Parents/Children)\")\n",
    "plt.xlabel(\"Parch\")\n",
    "plt.ylabel(\"Count\")\n",
    "plt.legend(title='Survived', labels=['No', 'Yes'])\n",
    "plt.show()"
   ]
  },
  {
   "cell_type": "code",
   "execution_count": 15,
   "metadata": {
    "execution": {
     "iopub.execute_input": "2023-10-19T13:36:46.395331Z",
     "iopub.status.busy": "2023-10-19T13:36:46.394337Z",
     "iopub.status.idle": "2023-10-19T13:36:46.421223Z",
     "shell.execute_reply": "2023-10-19T13:36:46.420089Z",
     "shell.execute_reply.started": "2023-10-19T13:36:46.395297Z"
    }
   },
   "outputs": [
    {
     "data": {
      "text/html": [
       "<div>\n",
       "<style scoped>\n",
       "    .dataframe tbody tr th:only-of-type {\n",
       "        vertical-align: middle;\n",
       "    }\n",
       "\n",
       "    .dataframe tbody tr th {\n",
       "        vertical-align: top;\n",
       "    }\n",
       "\n",
       "    .dataframe thead th {\n",
       "        text-align: right;\n",
       "    }\n",
       "</style>\n",
       "<table border=\"1\" class=\"dataframe\">\n",
       "  <thead>\n",
       "    <tr style=\"text-align: right;\">\n",
       "      <th></th>\n",
       "      <th>Pclass</th>\n",
       "      <th>Sex</th>\n",
       "      <th>Age</th>\n",
       "      <th>SibSp</th>\n",
       "      <th>Parch</th>\n",
       "      <th>Fare</th>\n",
       "      <th>Embarked</th>\n",
       "    </tr>\n",
       "  </thead>\n",
       "  <tbody>\n",
       "    <tr>\n",
       "      <th>0</th>\n",
       "      <td>3</td>\n",
       "      <td>male</td>\n",
       "      <td>34.5</td>\n",
       "      <td>0</td>\n",
       "      <td>0</td>\n",
       "      <td>7.8292</td>\n",
       "      <td>Q</td>\n",
       "    </tr>\n",
       "    <tr>\n",
       "      <th>1</th>\n",
       "      <td>3</td>\n",
       "      <td>female</td>\n",
       "      <td>47.0</td>\n",
       "      <td>1</td>\n",
       "      <td>0</td>\n",
       "      <td>7.0000</td>\n",
       "      <td>S</td>\n",
       "    </tr>\n",
       "    <tr>\n",
       "      <th>2</th>\n",
       "      <td>2</td>\n",
       "      <td>male</td>\n",
       "      <td>62.0</td>\n",
       "      <td>0</td>\n",
       "      <td>0</td>\n",
       "      <td>9.6875</td>\n",
       "      <td>Q</td>\n",
       "    </tr>\n",
       "    <tr>\n",
       "      <th>3</th>\n",
       "      <td>3</td>\n",
       "      <td>male</td>\n",
       "      <td>27.0</td>\n",
       "      <td>0</td>\n",
       "      <td>0</td>\n",
       "      <td>8.6625</td>\n",
       "      <td>S</td>\n",
       "    </tr>\n",
       "    <tr>\n",
       "      <th>4</th>\n",
       "      <td>3</td>\n",
       "      <td>female</td>\n",
       "      <td>22.0</td>\n",
       "      <td>1</td>\n",
       "      <td>1</td>\n",
       "      <td>12.2875</td>\n",
       "      <td>S</td>\n",
       "    </tr>\n",
       "    <tr>\n",
       "      <th>...</th>\n",
       "      <td>...</td>\n",
       "      <td>...</td>\n",
       "      <td>...</td>\n",
       "      <td>...</td>\n",
       "      <td>...</td>\n",
       "      <td>...</td>\n",
       "      <td>...</td>\n",
       "    </tr>\n",
       "    <tr>\n",
       "      <th>413</th>\n",
       "      <td>3</td>\n",
       "      <td>male</td>\n",
       "      <td>27.0</td>\n",
       "      <td>0</td>\n",
       "      <td>0</td>\n",
       "      <td>8.0500</td>\n",
       "      <td>S</td>\n",
       "    </tr>\n",
       "    <tr>\n",
       "      <th>414</th>\n",
       "      <td>1</td>\n",
       "      <td>female</td>\n",
       "      <td>39.0</td>\n",
       "      <td>0</td>\n",
       "      <td>0</td>\n",
       "      <td>108.9000</td>\n",
       "      <td>C</td>\n",
       "    </tr>\n",
       "    <tr>\n",
       "      <th>415</th>\n",
       "      <td>3</td>\n",
       "      <td>male</td>\n",
       "      <td>38.5</td>\n",
       "      <td>0</td>\n",
       "      <td>0</td>\n",
       "      <td>7.2500</td>\n",
       "      <td>S</td>\n",
       "    </tr>\n",
       "    <tr>\n",
       "      <th>416</th>\n",
       "      <td>3</td>\n",
       "      <td>male</td>\n",
       "      <td>27.0</td>\n",
       "      <td>0</td>\n",
       "      <td>0</td>\n",
       "      <td>8.0500</td>\n",
       "      <td>S</td>\n",
       "    </tr>\n",
       "    <tr>\n",
       "      <th>417</th>\n",
       "      <td>3</td>\n",
       "      <td>male</td>\n",
       "      <td>27.0</td>\n",
       "      <td>1</td>\n",
       "      <td>1</td>\n",
       "      <td>22.3583</td>\n",
       "      <td>C</td>\n",
       "    </tr>\n",
       "  </tbody>\n",
       "</table>\n",
       "<p>418 rows × 7 columns</p>\n",
       "</div>"
      ],
      "text/plain": [
       "     Pclass     Sex   Age  SibSp  Parch      Fare Embarked\n",
       "0         3    male  34.5      0      0    7.8292        Q\n",
       "1         3  female  47.0      1      0    7.0000        S\n",
       "2         2    male  62.0      0      0    9.6875        Q\n",
       "3         3    male  27.0      0      0    8.6625        S\n",
       "4         3  female  22.0      1      1   12.2875        S\n",
       "..      ...     ...   ...    ...    ...       ...      ...\n",
       "413       3    male  27.0      0      0    8.0500        S\n",
       "414       1  female  39.0      0      0  108.9000        C\n",
       "415       3    male  38.5      0      0    7.2500        S\n",
       "416       3    male  27.0      0      0    8.0500        S\n",
       "417       3    male  27.0      1      1   22.3583        C\n",
       "\n",
       "[418 rows x 7 columns]"
      ]
     },
     "execution_count": 15,
     "metadata": {},
     "output_type": "execute_result"
    }
   ],
   "source": [
    "# Data Preprocessing\n",
    "# cabin,name,passenger id,ticket no don't have any relation with survival so we are not considerring it\n",
    "data.drop([\"Cabin\", \"Name\", \"PassengerId\", \"Ticket\"], axis=1, inplace=True)\n",
    "X = data.drop(\"Survived\", axis=1)\n",
    "y = data[\"Survived\"]\n",
    "X"
   ]
  },
  {
   "cell_type": "code",
   "execution_count": 16,
   "metadata": {
    "execution": {
     "iopub.execute_input": "2023-10-19T13:37:16.275111Z",
     "iopub.status.busy": "2023-10-19T13:37:16.273886Z",
     "iopub.status.idle": "2023-10-19T13:37:16.281857Z",
     "shell.execute_reply": "2023-10-19T13:37:16.28106Z",
     "shell.execute_reply.started": "2023-10-19T13:37:16.275064Z"
    }
   },
   "outputs": [],
   "source": [
    "# Splitting the data into a training set and a testing set\n",
    "X_train, X_test, y_train, y_test = train_test_split(X, y, test_size=0.2, random_state=42)"
   ]
  },
  {
   "cell_type": "code",
   "execution_count": 17,
   "metadata": {
    "execution": {
     "iopub.execute_input": "2023-10-19T13:37:45.114291Z",
     "iopub.status.busy": "2023-10-19T13:37:45.11393Z",
     "iopub.status.idle": "2023-10-19T13:37:45.12134Z",
     "shell.execute_reply": "2023-10-19T13:37:45.120314Z",
     "shell.execute_reply.started": "2023-10-19T13:37:45.114265Z"
    }
   },
   "outputs": [],
   "source": [
    "# preprocessing steps for numeric and categorical data\n",
    "numeric_features = [\"Age\", \"SibSp\", \"Parch\", \"Fare\"]\n",
    "numeric_transformer = Pipeline(steps=[\n",
    "    (\"imputer\", SimpleImputer(strategy=\"median\")),\n",
    "    (\"scaler\", StandardScaler())\n",
    "])\n",
    "\n",
    "categorical_features = [\"Sex\", \"Embarked\", \"Pclass\"]\n",
    "categorical_transformer = Pipeline(steps=[\n",
    "    (\"imputer\", SimpleImputer(strategy=\"most_frequent\")),\n",
    "    (\"onehot\", OneHotEncoder(handle_unknown=\"ignore\"))\n",
    "])\n",
    "\n",
    "preprocessor = ColumnTransformer(\n",
    "    transformers=[\n",
    "        (\"num\", numeric_transformer, numeric_features),\n",
    "        (\"cat\", categorical_transformer, categorical_features)\n",
    "    ])"
   ]
  },
  {
   "cell_type": "code",
   "execution_count": 18,
   "metadata": {
    "execution": {
     "iopub.execute_input": "2023-10-19T13:40:40.064969Z",
     "iopub.status.busy": "2023-10-19T13:40:40.063843Z",
     "iopub.status.idle": "2023-10-19T13:40:40.070843Z",
     "shell.execute_reply": "2023-10-19T13:40:40.069859Z",
     "shell.execute_reply.started": "2023-10-19T13:40:40.064925Z"
    }
   },
   "outputs": [],
   "source": [
    "# Define a list of classifiers\n",
    "classifiers = {\n",
    "    \"Random Forest\": RandomForestClassifier(n_estimators=100, random_state=42),\n",
    "    \"SVC\": SVC(),\n",
    "    \"Logistic Regression\": LogisticRegression(max_iter=1000),\n",
    "    \"K-Nearest Neighbors\": KNeighborsClassifier(n_neighbors=5),\n",
    "    \"Gradient Boosting\": GradientBoostingClassifier(n_estimators=100, random_state=42)\n",
    "}"
   ]
  },
  {
   "cell_type": "code",
   "execution_count": 19,
   "metadata": {
    "execution": {
     "iopub.execute_input": "2023-10-19T13:40:45.294491Z",
     "iopub.status.busy": "2023-10-19T13:40:45.29413Z",
     "iopub.status.idle": "2023-10-19T13:40:45.670314Z",
     "shell.execute_reply": "2023-10-19T13:40:45.669339Z",
     "shell.execute_reply.started": "2023-10-19T13:40:45.294464Z"
    }
   },
   "outputs": [
    {
     "name": "stdout",
     "output_type": "stream",
     "text": [
      "Classifier: Random Forest\n",
      "Accuracy: 1.00\n",
      "              precision    recall  f1-score   support\n",
      "\n",
      "           0       1.00      1.00      1.00        50\n",
      "           1       1.00      1.00      1.00        34\n",
      "\n",
      "    accuracy                           1.00        84\n",
      "   macro avg       1.00      1.00      1.00        84\n",
      "weighted avg       1.00      1.00      1.00        84\n",
      "\n",
      "\n",
      "\n",
      "Classifier: SVC\n",
      "Accuracy: 0.99\n",
      "              precision    recall  f1-score   support\n",
      "\n",
      "           0       0.98      1.00      0.99        50\n",
      "           1       1.00      0.97      0.99        34\n",
      "\n",
      "    accuracy                           0.99        84\n",
      "   macro avg       0.99      0.99      0.99        84\n",
      "weighted avg       0.99      0.99      0.99        84\n",
      "\n",
      "\n",
      "\n",
      "Classifier: Logistic Regression\n",
      "Accuracy: 1.00\n",
      "              precision    recall  f1-score   support\n",
      "\n",
      "           0       1.00      1.00      1.00        50\n",
      "           1       1.00      1.00      1.00        34\n",
      "\n",
      "    accuracy                           1.00        84\n",
      "   macro avg       1.00      1.00      1.00        84\n",
      "weighted avg       1.00      1.00      1.00        84\n",
      "\n",
      "\n",
      "\n",
      "Classifier: K-Nearest Neighbors\n",
      "Accuracy: 0.98\n",
      "              precision    recall  f1-score   support\n",
      "\n",
      "           0       0.98      0.98      0.98        50\n",
      "           1       0.97      0.97      0.97        34\n",
      "\n",
      "    accuracy                           0.98        84\n",
      "   macro avg       0.98      0.98      0.98        84\n",
      "weighted avg       0.98      0.98      0.98        84\n",
      "\n",
      "\n",
      "\n",
      "Classifier: Gradient Boosting\n",
      "Accuracy: 1.00\n",
      "              precision    recall  f1-score   support\n",
      "\n",
      "           0       1.00      1.00      1.00        50\n",
      "           1       1.00      1.00      1.00        34\n",
      "\n",
      "    accuracy                           1.00        84\n",
      "   macro avg       1.00      1.00      1.00        84\n",
      "weighted avg       1.00      1.00      1.00        84\n",
      "\n",
      "\n",
      "\n"
     ]
    }
   ],
   "source": [
    "# Train and evaluate each classifier\n",
    "for clf_name, clf in classifiers.items():\n",
    "    model = Pipeline(steps=[\n",
    "        (\"preprocessor\", preprocessor),\n",
    "        (\"classifier\", clf)\n",
    "    ])\n",
    "    \n",
    "    model.fit(X_train, y_train)\n",
    "    y_pred = model.predict(X_test)\n",
    "    \n",
    "    accuracy = accuracy_score(y_test, y_pred)\n",
    "    report = classification_report(y_test, y_pred)\n",
    "    \n",
    "    print(f\"Classifier: {clf_name}\")\n",
    "    print(f\"Accuracy: {accuracy:.2f}\")\n",
    "    print(report)\n",
    "    print(\"\\n\")"
   ]
  },
  {
   "cell_type": "code",
   "execution_count": 20,
   "metadata": {},
   "outputs": [
    {
     "name": "stdout",
     "output_type": "stream",
     "text": [
      "Classifier: Random Forest\n",
      "Cross-Validation Accuracy: 100.00% (+/- 0.00%)\n",
      "\n",
      "\n",
      "Classifier: SVC\n",
      "Cross-Validation Accuracy: 98.57% (+/- 0.47%)\n",
      "\n",
      "\n",
      "Classifier: Logistic Regression\n",
      "Cross-Validation Accuracy: 100.00% (+/- 0.00%)\n",
      "\n",
      "\n",
      "Classifier: K-Nearest Neighbors\n",
      "Cross-Validation Accuracy: 97.14% (+/- 1.78%)\n",
      "\n",
      "\n",
      "Classifier: Gradient Boosting\n",
      "Cross-Validation Accuracy: 100.00% (+/- 0.00%)\n",
      "\n",
      "\n"
     ]
    }
   ],
   "source": [
    "from sklearn.model_selection import cross_val_score, StratifiedKFold\n",
    "import numpy as np\n",
    "\n",
    "num_folds = 5\n",
    "stratified_kfold = StratifiedKFold(n_splits=num_folds, shuffle=True, random_state=42)\n",
    "for clf_name, clf in classifiers.items():\n",
    "    model = Pipeline(steps=[\n",
    "        (\"preprocessor\", preprocessor),\n",
    "        (\"classifier\", clf)\n",
    "    ])\n",
    "    \n",
    "    cross_val_scores = cross_val_score(model, X, y, cv=stratified_kfold, scoring='accuracy')\n",
    "    \n",
    "    print(f\"Classifier: {clf_name}\")\n",
    "    print(f\"Cross-Validation Accuracy: {np.mean(cross_val_scores) * 100:.2f}% (+/- {np.std(cross_val_scores) * 100:.2f}%)\")\n",
    "    print(\"\\n\")"
   ]
  },
  {
   "cell_type": "code",
   "execution_count": 21,
   "metadata": {},
   "outputs": [
    {
     "data": {
      "text/html": [
       "<div>\n",
       "<style scoped>\n",
       "    .dataframe tbody tr th:only-of-type {\n",
       "        vertical-align: middle;\n",
       "    }\n",
       "\n",
       "    .dataframe tbody tr th {\n",
       "        vertical-align: top;\n",
       "    }\n",
       "\n",
       "    .dataframe thead th {\n",
       "        text-align: right;\n",
       "    }\n",
       "</style>\n",
       "<table border=\"1\" class=\"dataframe\">\n",
       "  <thead>\n",
       "    <tr style=\"text-align: right;\">\n",
       "      <th></th>\n",
       "      <th>Pclass</th>\n",
       "      <th>Sex</th>\n",
       "      <th>Age</th>\n",
       "      <th>SibSp</th>\n",
       "      <th>Parch</th>\n",
       "      <th>Fare</th>\n",
       "      <th>Embarked</th>\n",
       "    </tr>\n",
       "  </thead>\n",
       "  <tbody>\n",
       "    <tr>\n",
       "      <th>321</th>\n",
       "      <td>3</td>\n",
       "      <td>male</td>\n",
       "      <td>25.0</td>\n",
       "      <td>0</td>\n",
       "      <td>0</td>\n",
       "      <td>7.2292</td>\n",
       "      <td>C</td>\n",
       "    </tr>\n",
       "    <tr>\n",
       "      <th>324</th>\n",
       "      <td>1</td>\n",
       "      <td>female</td>\n",
       "      <td>39.0</td>\n",
       "      <td>0</td>\n",
       "      <td>0</td>\n",
       "      <td>211.3375</td>\n",
       "      <td>S</td>\n",
       "    </tr>\n",
       "    <tr>\n",
       "      <th>388</th>\n",
       "      <td>3</td>\n",
       "      <td>male</td>\n",
       "      <td>21.0</td>\n",
       "      <td>0</td>\n",
       "      <td>0</td>\n",
       "      <td>7.7500</td>\n",
       "      <td>Q</td>\n",
       "    </tr>\n",
       "    <tr>\n",
       "      <th>56</th>\n",
       "      <td>3</td>\n",
       "      <td>male</td>\n",
       "      <td>35.0</td>\n",
       "      <td>0</td>\n",
       "      <td>0</td>\n",
       "      <td>7.8958</td>\n",
       "      <td>S</td>\n",
       "    </tr>\n",
       "    <tr>\n",
       "      <th>153</th>\n",
       "      <td>3</td>\n",
       "      <td>female</td>\n",
       "      <td>36.0</td>\n",
       "      <td>0</td>\n",
       "      <td>2</td>\n",
       "      <td>12.1833</td>\n",
       "      <td>S</td>\n",
       "    </tr>\n",
       "    <tr>\n",
       "      <th>...</th>\n",
       "      <td>...</td>\n",
       "      <td>...</td>\n",
       "      <td>...</td>\n",
       "      <td>...</td>\n",
       "      <td>...</td>\n",
       "      <td>...</td>\n",
       "      <td>...</td>\n",
       "    </tr>\n",
       "    <tr>\n",
       "      <th>57</th>\n",
       "      <td>3</td>\n",
       "      <td>male</td>\n",
       "      <td>25.0</td>\n",
       "      <td>0</td>\n",
       "      <td>0</td>\n",
       "      <td>7.6500</td>\n",
       "      <td>S</td>\n",
       "    </tr>\n",
       "    <tr>\n",
       "      <th>126</th>\n",
       "      <td>3</td>\n",
       "      <td>male</td>\n",
       "      <td>22.0</td>\n",
       "      <td>0</td>\n",
       "      <td>0</td>\n",
       "      <td>7.7958</td>\n",
       "      <td>S</td>\n",
       "    </tr>\n",
       "    <tr>\n",
       "      <th>24</th>\n",
       "      <td>1</td>\n",
       "      <td>female</td>\n",
       "      <td>48.0</td>\n",
       "      <td>1</td>\n",
       "      <td>3</td>\n",
       "      <td>262.3750</td>\n",
       "      <td>C</td>\n",
       "    </tr>\n",
       "    <tr>\n",
       "      <th>17</th>\n",
       "      <td>3</td>\n",
       "      <td>male</td>\n",
       "      <td>21.0</td>\n",
       "      <td>0</td>\n",
       "      <td>0</td>\n",
       "      <td>7.2250</td>\n",
       "      <td>C</td>\n",
       "    </tr>\n",
       "    <tr>\n",
       "      <th>66</th>\n",
       "      <td>3</td>\n",
       "      <td>female</td>\n",
       "      <td>18.0</td>\n",
       "      <td>0</td>\n",
       "      <td>0</td>\n",
       "      <td>7.8792</td>\n",
       "      <td>Q</td>\n",
       "    </tr>\n",
       "  </tbody>\n",
       "</table>\n",
       "<p>84 rows × 7 columns</p>\n",
       "</div>"
      ],
      "text/plain": [
       "     Pclass     Sex   Age  SibSp  Parch      Fare Embarked\n",
       "321       3    male  25.0      0      0    7.2292        C\n",
       "324       1  female  39.0      0      0  211.3375        S\n",
       "388       3    male  21.0      0      0    7.7500        Q\n",
       "56        3    male  35.0      0      0    7.8958        S\n",
       "153       3  female  36.0      0      2   12.1833        S\n",
       "..      ...     ...   ...    ...    ...       ...      ...\n",
       "57        3    male  25.0      0      0    7.6500        S\n",
       "126       3    male  22.0      0      0    7.7958        S\n",
       "24        1  female  48.0      1      3  262.3750        C\n",
       "17        3    male  21.0      0      0    7.2250        C\n",
       "66        3  female  18.0      0      0    7.8792        Q\n",
       "\n",
       "[84 rows x 7 columns]"
      ]
     },
     "execution_count": 21,
     "metadata": {},
     "output_type": "execute_result"
    }
   ],
   "source": [
    "X_test"
   ]
  },
  {
   "cell_type": "code",
   "execution_count": 24,
   "metadata": {},
   "outputs": [
    {
     "name": "stdout",
     "output_type": "stream",
     "text": [
      "Unique values in Pclass: [3 1 2]\n",
      "Unique values in Sex: ['male' 'female']\n",
      "Unique values in Age: [25.   39.   21.   35.   36.   50.   29.   49.   19.   27.   51.   16.\n",
      " 28.   55.   10.   23.   57.   41.    3.   30.   18.5  32.   22.   33.\n",
      " 24.   32.5  28.5  34.5  45.   47.   20.   26.    0.17 40.   15.   43.\n",
      " 48.   18.  ]\n",
      "Unique values in SibSp: [0 1 2 4]\n",
      "Unique values in Parch: [0 2 1 9 3]\n",
      "Unique values in Fare: [  7.2292 211.3375   7.75     7.8958  12.1833  26.       7.925   13.\n",
      "   8.05    24.15    39.4      8.5167 108.9     56.4958   7.775   50.\n",
      "  29.125   10.5     51.8625  13.775   15.2458   7.2833  55.4417  26.55\n",
      "  22.525   39.6875 151.55    15.0458 211.5     23.45    39.6     27.7208\n",
      "   7.8542  69.55    25.7      7.25     7.8292   7.225   13.8583  20.575\n",
      "  14.5     11.5     39.       7.85     7.55    29.7    146.5208  21.\n",
      "   7.5792  31.6833   8.6625  13.9     22.025    7.65     7.7958 262.375\n",
      "   7.8792]\n",
      "Unique values in Embarked: ['C' 'S' 'Q']\n"
     ]
    }
   ],
   "source": [
    "for column in X_test.columns:\n",
    "    unique_values = X_test[column].unique()\n",
    "    print(f\"Unique values in {column}: {unique_values}\")"
   ]
  },
  {
   "cell_type": "code",
   "execution_count": 57,
   "metadata": {
    "execution": {
     "iopub.execute_input": "2023-10-19T13:40:52.985199Z",
     "iopub.status.busy": "2023-10-19T13:40:52.98482Z",
     "iopub.status.idle": "2023-10-19T13:40:53.08927Z",
     "shell.execute_reply": "2023-10-19T13:40:53.088297Z",
     "shell.execute_reply.started": "2023-10-19T13:40:52.985169Z"
    }
   },
   "outputs": [
    {
     "data": {
      "text/plain": [
       "'Passenger survived'"
      ]
     },
     "execution_count": 57,
     "metadata": {},
     "output_type": "execute_result"
    }
   ],
   "source": [
    "#predicting with a random passenger\n",
    "\n",
    "# Define the passenger's data\n",
    "passenger_data = pd.DataFrame({\n",
    "    'Pclass': [3],\n",
    "    'Sex': ['female'],\n",
    "    'Age': [47],\n",
    "    'SibSp': [1],\n",
    "    'Parch': [0],\n",
    "    'Fare': [7],\n",
    "    'Cabin': ['Unknown'],\n",
    "    'Embarked': ['S']\n",
    "})\n",
    "\n",
    "# Defining the model (using the Random Forest Classifier)\n",
    "model = Pipeline(steps=[\n",
    "    (\"preprocessor\", preprocessor),\n",
    "    (\"classifier\", RandomForestClassifier(n_estimators=100, random_state=42))\n",
    "])\n",
    "\n",
    "# Train the best model on the entire dataset\n",
    "model.fit(X, y)\n",
    "prediction = model.predict(passenger_data)\n",
    "\n",
    "#prediction\n",
    "if prediction==1:\n",
    "        answer=\"Passenger survived\"\n",
    "else: \n",
    "        answer=\"Passenger did not survive\"\n",
    "        \n",
    "answer"
   ]
  },
  {
   "cell_type": "code",
   "execution_count": null,
   "metadata": {},
   "outputs": [],
   "source": []
  }
 ],
 "metadata": {
  "kaggle": {
   "accelerator": "none",
   "dataSources": [
    {
     "datasetId": 826163,
     "sourceId": 2879186,
     "sourceType": "datasetVersion"
    }
   ],
   "dockerImageVersionId": 30558,
   "isGpuEnabled": false,
   "isInternetEnabled": false,
   "language": "python",
   "sourceType": "notebook"
  },
  "kernelspec": {
   "display_name": "Python 3 (ipykernel)",
   "language": "python",
   "name": "python3"
  },
  "language_info": {
   "codemirror_mode": {
    "name": "ipython",
    "version": 3
   },
   "file_extension": ".py",
   "mimetype": "text/x-python",
   "name": "python",
   "nbconvert_exporter": "python",
   "pygments_lexer": "ipython3",
   "version": "3.10.9"
  }
 },
 "nbformat": 4,
 "nbformat_minor": 4
}
